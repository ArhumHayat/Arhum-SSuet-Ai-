{
 "cells": [
  {
   "cell_type": "code",
   "execution_count": 1,
   "metadata": {},
   "outputs": [
    {
     "name": "stdout",
     "output_type": "stream",
     "text": [
      "Enter Numerator: 8\n",
      "Enter Denomenator: 2\n",
      "Number is divisble by  2\n"
     ]
    }
   ],
   "source": [
    "# 1. Divisibility Check of two numbers\n",
    "\n",
    "# Write a Python program to check whether a number is completely divisible by another number. Accept two integer values form the user\n",
    "# Program Console Sample Output 1:\n",
    "\n",
    "# Enter numerator: 4\n",
    "\n",
    "# Enter Denominator: 2\n",
    "\n",
    "# Number 4 is Completely divisible by 2\n",
    "# Program Console Sample Output 2:\n",
    "\n",
    "# Enter numerator: 7\n",
    "\n",
    "# Enter Denominator: 4\n",
    "\n",
    "# Number 7 is not Completely divisible by 4\n",
    "\n",
    "n1=int(input(\"Enter Numerator: \"))\n",
    "n2=int(input(\"Enter Denomenator: \"))\n",
    "if n1 % n2 ==0:\n",
    "    print(\"Number is divisble by \",n2)\n",
    "else:\n",
    "    print(\"Number is not divsible by  \",n2)"
   ]
  },
  {
   "cell_type": "code",
   "execution_count": 2,
   "metadata": {},
   "outputs": [
    {
     "name": "stdout",
     "output_type": "stream",
     "text": [
      "Enter any stringHi\n",
      "how many copies you want : 4\n",
      "HiHiHiHi\n"
     ]
    }
   ],
   "source": [
    "# 2. Copy string n times\n",
    "\n",
    "# Write a Python program to get a string which is n (non-negative integer) copies of a given string.\n",
    "# Program Console Output:\n",
    "\n",
    "# Enter String: Hi\n",
    "\n",
    "# How many copies of String you need: 4\n",
    "\n",
    "# 4 Copies of Hi are HiHiHiHi\n",
    "\n",
    "i=input(\"Enter any string\")\n",
    "j=int(input(\"how many copies you want : \"))\n",
    "print(i*j)\n"
   ]
  },
  {
   "cell_type": "code",
   "execution_count": 3,
   "metadata": {},
   "outputs": [
    {
     "name": "stdout",
     "output_type": "stream",
     "text": [
      "Enter any character : e\n",
      "It is a vowel\n"
     ]
    }
   ],
   "source": [
    "# 3. Vowel Tester\n",
    "\n",
    "# Write a Python program to test whether a passed letter is a vowel or not\n",
    "# Program Console Output 1:\n",
    "\n",
    "# Enter a character: A\n",
    "\n",
    "# Letter A is Vowel\n",
    "# Program Console Output 2:\n",
    "\n",
    "# Enter a character: e\n",
    "\n",
    "# Letter e is Vowel\n",
    "# Program Console Output 2:\n",
    "\n",
    "# Enter a character: N Letter N is not Vowel\n",
    "\n",
    "L=input(\"Enter any character : \")\n",
    "n=L.lower()\n",
    "if(n=='a'or n=='e'or n=='i'or n=='o'or n=='u'):\n",
    "    print(\"It is a vowel\")\n",
    "else:\n",
    "    print(\"It is not a vowel\")\n"
   ]
  },
  {
   "cell_type": "code",
   "execution_count": 4,
   "metadata": {},
   "outputs": [
    {
     "name": "stdout",
     "output_type": "stream",
     "text": [
      "1\n",
      "3\n",
      "5\n",
      "7\n",
      "9\n",
      "11\n",
      "13\n",
      "15\n",
      "17\n",
      "19\n"
     ]
    }
   ],
   "source": [
    "# 4. Odd No.s\n",
    "\n",
    "# Use the third argument of the range() function to make a list of the odd numbers from 1 to 20. Use a for loop to print each number.\n",
    "\n",
    "for i in range(1,20):\n",
    "    if i%2!=0:\n",
    "        print(i)"
   ]
  },
  {
   "cell_type": "code",
   "execution_count": 7,
   "metadata": {},
   "outputs": [
    {
     "name": "stdout",
     "output_type": "stream",
     "text": [
      "Three dishes are ['BURGER', 'CHICKEN STEAK', 'BEEF STEAK']\n"
     ]
    }
   ],
   "source": [
    "# 5. Food Slicing\n",
    "\n",
    "# Make a python program that contains your nine favourite dishes in a list called foods.Print the message,\n",
    "\n",
    "# The first three items in the list are:\n",
    "\n",
    "# Then use a slice to print the first three items from that program’s list.Print the message,\n",
    "\n",
    "# Three items from the middle of the list are:\n",
    "\n",
    "# Use a slice to print three items from the middle of the list.Print the message,\n",
    "\n",
    "# The last three items in the list are:\n",
    "\n",
    "# Use a slice to print the last three items in the list.\n",
    "\n",
    "DISHES=['BURGER','CHICKEN STEAK','BEEF STEAK','SALAD','SOUP']\n",
    "print(\"Three dishes are\",DISHES[0:3])\n"
   ]
  },
  {
   "cell_type": "code",
   "execution_count": 9,
   "metadata": {},
   "outputs": [
    {
     "name": "stdout",
     "output_type": "stream",
     "text": [
      "['CHICKEN STEAK', 'BEEF STEAK', 'SALAD']\n"
     ]
    }
   ],
   "source": [
    "print(DISHES[1:4])"
   ]
  },
  {
   "cell_type": "code",
   "execution_count": 10,
   "metadata": {},
   "outputs": [
    {
     "name": "stdout",
     "output_type": "stream",
     "text": [
      "['BEEF STEAK', 'SALAD', 'SOUP']\n"
     ]
    }
   ],
   "source": [
    "print(DISHES[2:6])\n"
   ]
  },
  {
   "cell_type": "code",
   "execution_count": null,
   "metadata": {},
   "outputs": [],
   "source": []
  }
 ],
 "metadata": {
  "kernelspec": {
   "display_name": "Python 3",
   "language": "python",
   "name": "python3"
  },
  "language_info": {
   "codemirror_mode": {
    "name": "ipython",
    "version": 3
   },
   "file_extension": ".py",
   "mimetype": "text/x-python",
   "name": "python",
   "nbconvert_exporter": "python",
   "pygments_lexer": "ipython3",
   "version": "3.7.4"
  }
 },
 "nbformat": 4,
 "nbformat_minor": 2
}
